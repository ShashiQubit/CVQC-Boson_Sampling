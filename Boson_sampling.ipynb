{
  "nbformat": 4,
  "nbformat_minor": 0,
  "metadata": {
    "colab": {
      "provenance": []
    },
    "kernelspec": {
      "name": "python3",
      "display_name": "Python 3"
    },
    "language_info": {
      "name": "python"
    }
  },
  "cells": [
    {
      "cell_type": "markdown",
      "source": [
        "#Boson sampling"
      ],
      "metadata": {
        "id": "P2hsF9-eA-5M"
      }
    },
    {
      "cell_type": "markdown",
      "source": [
        "# Background\n",
        "\n",
        "Boson sampling is a simplified model of quantum computation that uses non‐interacting bosons—typically photons—passing through a linear optical network to sample from a probability distribution that is believed to be hard to simulate classically.\n",
        "\n",
        "## Basic Setup\n",
        "\n",
        "1. **Input State:**  \n",
        "   We begin by preparing an input state with $ n $ single photons distributed over $ m $ modes. A common choice is\n",
        "   $$\n",
        "   |\\psi_{\\text{in}}\\rangle = |1,1,\\dots,1,0,0,\\dots,0\\rangle,\n",
        "   $$\n",
        "   where the first $ n $ modes each contain one photon and the remaining $ m-n $ modes are in the vacuum state.\n",
        "\n",
        "2. **Linear Optical Interferometer:**  \n",
        "   The interferometer is described by an $ m \\times m $ unitary matrix $ U $. It transforms the creation operators at the input as\n",
        "   $$\n",
        "   \\hat{b}_j^\\dagger = \\sum_{i=1}^m U_{ji}\\,\\hat{a}_i^\\dagger,\n",
        "   $$\n",
        "   where $\\hat{a}_i^\\dagger , \\hat{b}_j^\\dagger$ are the creation operators for the input and output modes, respectively.\n",
        "\n",
        "3. **Output State:**  \n",
        "   After the transformation, the state becomes\n",
        "   $$\n",
        "   |\\psi_{\\text{out}}\\rangle = \\hat{U}|\\psi_{\\text{in}}\\rangle.\n",
        "   $$\n",
        "\n",
        "4. **Measurement:**  \n",
        "   When we measure the photon numbers at the output (i.e., perform Fock state measurements), we obtain an output configuration\n",
        "   $$\n",
        "   S = (s_1, s_2, \\dots, s_m),\n",
        "   $$\n",
        "   with $\\sum_{j=1}^m s_j = n.$\n",
        "\n",
        "## Sampling Probabilities\n",
        "\n",
        "The probability \\( p(S) \\) of detecting the configuration $ S $ is given by\n",
        "$$\n",
        "p(S) = \\frac{\\left|\\operatorname{Per}(U_S)\\right|^2}{s_1!\\,s_2!\\,\\cdots\\,s_m!},\n",
        "$$\n",
        "where:\n",
        "- $U_S $ is an $n \\times n$ submatrix of $ U $, formed by selecting the columns corresponding to the input modes containing photons and the rows corresponding to the output modes where photons are detected.\n",
        "- $ \\operatorname{Per}(U_S) $ is the **permanent** of $ U_S $.\n",
        "\n",
        "## The Permanent\n",
        "\n",
        "The permanent of an $ n \\times n $ matrix $ A $ is defined as\n",
        "$$\n",
        "\\operatorname{Per}(A) = \\sum_{\\sigma \\in S_n} \\prod_{i=1}^n A_{i,\\sigma(i)},\n",
        "$$\n",
        "where $ S_n $ is the set of all permutations of $ \\{1, 2, \\dots, n\\} $. Unlike the determinant, the permanent does not include any sign factors and is known to be a $\\#P$-hard problem, which implies that even approximating it is computationally difficult for classical computers.\n",
        "\n",
        "## Why Is Boson Sampling Interesting?\n",
        "\n",
        "- **Computational Hardness:**  \n",
        "  Since calculating the permanent is $\\#P$-hard, sampling from the boson sampling output distribution is believed to be infeasible for classical computers as $ n $ grows.\n",
        "\n",
        "- **Quantum Advantage:**  \n",
        "  Although boson sampling does not constitute a universal quantum computer, its ability to perform a task that is hard for classical machines makes it a promising candidate for demonstrating quantum supremacy.\n"
      ],
      "metadata": {
        "id": "Go0DFdFrr8Nw"
      }
    },
    {
      "cell_type": "code",
      "source": [
        "%%capture\n",
        "!pip install strawberryfields\n",
        "!pip install thewalrus"
      ],
      "metadata": {
        "id": "pFA0QipyEtth"
      },
      "execution_count": 1,
      "outputs": []
    },
    {
      "cell_type": "code",
      "source": [
        "import numpy as np\n",
        "from thewalrus import perm\n",
        "# set the random seed\n",
        "np.random.seed(42)\n"
      ],
      "metadata": {
        "id": "WF1V_8oECkCj"
      },
      "execution_count": 2,
      "outputs": []
    },
    {
      "cell_type": "code",
      "source": [
        "from scipy.stats import unitary_group\n",
        "\n",
        "# define the linear interferometer\n",
        "U = unitary_group.rvs(4)\n",
        "print(U)"
      ],
      "metadata": {
        "colab": {
          "base_uri": "https://localhost:8080/"
        },
        "id": "X2wZsuGZBTFD",
        "outputId": "6f528033-6909-48a8-8fbd-b8250b25fd52"
      },
      "execution_count": 3,
      "outputs": [
        {
          "output_type": "stream",
          "name": "stdout",
          "text": [
            "[[ 0.23648826-0.48221431j  0.06829648+0.04447898j  0.51150074-0.09529866j\n",
            "   0.55205719-0.35974699j]\n",
            " [-0.11148167+0.69780321j -0.24943828+0.08410701j  0.46705929-0.43192981j\n",
            "   0.16220654-0.01817602j]\n",
            " [-0.22351926-0.25918352j  0.24364996-0.05375623j -0.09259829-0.53810588j\n",
            "   0.27267708+0.66941977j]\n",
            " [ 0.11519953-0.28596729j -0.90164923-0.22099186j -0.09627758-0.13105595j\n",
            "  -0.0200152 +0.12766128j]]\n"
          ]
        }
      ]
    },
    {
      "cell_type": "code",
      "execution_count": 4,
      "metadata": {
        "id": "4VQcM9NVA8TH"
      },
      "outputs": [],
      "source": [
        "# import Strawberry Fields\n",
        "import strawberryfields as sf\n",
        "from strawberryfields.ops import *\n",
        "\n",
        "# initialize a 4 mode program\n",
        "boson_sampling = sf.Program(4)\n",
        "\n",
        "with boson_sampling.context as q:\n",
        "    # prepare the input fock states\n",
        "    Fock(1) | q[0]\n",
        "    Fock(1) | q[1]\n",
        "    Vac     | q[2]\n",
        "    Fock(1) | q[3]\n",
        "    Interferometer(U) | q"
      ]
    },
    {
      "cell_type": "code",
      "source": [
        "boson_sampling.compile(compiler=\"fock\").print()"
      ],
      "metadata": {
        "colab": {
          "base_uri": "https://localhost:8080/"
        },
        "id": "wbE_ofrNA9W0",
        "outputId": "f57751d5-850b-4125-ba4a-528a876faa98"
      },
      "execution_count": 5,
      "outputs": [
        {
          "output_type": "stream",
          "name": "stdout",
          "text": [
            "Fock(1) | (q[0])\n",
            "Fock(1) | (q[1])\n",
            "Vac | (q[2])\n",
            "Fock(1) | (q[3])\n",
            "Rgate(1.713) | (q[0])\n",
            "BSgate(0.3206, 0) | (q[0], q[1])\n",
            "Rgate(-2.748) | (q[2])\n",
            "BSgate(0.9024, 0) | (q[2], q[3])\n",
            "Rgate(-2.461) | (q[1])\n",
            "BSgate(1.456, 0) | (q[1], q[2])\n",
            "Rgate(0.9034) | (q[0])\n",
            "BSgate(1.007, 0) | (q[0], q[1])\n",
            "Rgate(2.564) | (q[0])\n",
            "Rgate(4.645) | (q[1])\n",
            "Rgate(2.701) | (q[2])\n",
            "Rgate(0.9826) | (q[3])\n",
            "BSgate(-1.395, 0) | (q[2], q[3])\n",
            "Rgate(0.1149) | (q[2])\n",
            "BSgate(-0.4808, 0) | (q[1], q[2])\n",
            "Rgate(0.7131) | (q[1])\n"
          ]
        }
      ]
    },
    {
      "cell_type": "code",
      "source": [
        "# run the engine\n",
        "eng = sf.Engine(backend=\"fock\", backend_options={\"cutoff_dim\": 7})\n",
        "results = eng.run(boson_sampling)"
      ],
      "metadata": {
        "id": "y9U27GeED7H5"
      },
      "execution_count": 6,
      "outputs": []
    },
    {
      "cell_type": "code",
      "source": [
        "# extract the joint Fock probabilities\n",
        "probs = results.state.all_fock_probs()"
      ],
      "metadata": {
        "id": "bafpscEmD1VC"
      },
      "execution_count": 7,
      "outputs": []
    },
    {
      "cell_type": "markdown",
      "source": [
        "#Comparing to the permanent"
      ],
      "metadata": {
        "id": "kHBZQDn_CskK"
      }
    },
    {
      "cell_type": "markdown",
      "source": [
        "The permanent of a matrix, defined by\n",
        "\n",
        "$$\n",
        "\\operatorname{Per}(A)=\\sum_{\\sigma=S_N} \\prod_{i=1}^N A_{i \\sigma(i)}\n",
        "$$\n",
        "\n",
        "where $S_N$ is the set of all permutations of $N$ elements, is calculated in a similar fashion to the determinant, but unlike the determinant, the signatures of the permutations are not taken into account - every permutation is taken as a positive quantity.\n",
        "\n",
        "In graph theory, the permanent calculates the number of perfect matchings in a bipartite graph with adjacency matrix $A$."
      ],
      "metadata": {
        "id": "h28MHFmPqnoL"
      }
    },
    {
      "cell_type": "markdown",
      "source": [
        "  $$\n",
        "  p(S) = \\frac{|\\operatorname{Per}(U_S)|^2}{s_1!\\,s_2!\\,\\cdots\\,s_m!}.\n",
        "  $$"
      ],
      "metadata": {
        "id": "R_oNv0iaq9h5"
      }
    },
    {
      "cell_type": "code",
      "source": [
        "BS_theory = np.abs(perm(U[:, [0,1,3]][[0,1,3]]))**2 / 1\n",
        "SF_experiment =  probs[1,1,0,1]\n",
        "print(\"Experimental :\",SF_experiment)\n",
        "print(\"Theororical :\", BS_theory)\n",
        "print(\"Exact percentage difference :\",100*np.abs(BS_theory-SF_experiment)/BS_theory)"
      ],
      "metadata": {
        "colab": {
          "base_uri": "https://localhost:8080/"
        },
        "id": "fJmR1PqzA9UE",
        "outputId": "41d29610-82e5-49b7-a915-acc82582f57c"
      },
      "execution_count": 8,
      "outputs": [
        {
          "output_type": "stream",
          "name": "stdout",
          "text": [
            "Experimental : 0.11854373036507135\n",
            "Theororical : 0.11854373036507143\n",
            "Exact percentage difference : 7.024135868717443e-14\n"
          ]
        }
      ]
    },
    {
      "cell_type": "markdown",
      "source": [
        "## Summary\n",
        "\n",
        "In boson sampling:\n",
        "- **Input:** \\( n \\) single photons in \\( m \\) modes.\n",
        "- **Transformation:** The photons pass through a linear interferometer described by a unitary \\( U \\).\n",
        "- **Measurement:** The output configuration \\( S \\) is measured in the Fock basis.\n",
        "- **Probability:** The measurement probability involves the permanent of a submatrix of \\( U \\),\n",
        "  $$\n",
        "  p(S) = \\frac{|\\operatorname{Per}(U_S)|^2}{s_1!\\,s_2!\\,\\cdots\\,s_m!}.\n",
        "  $$\n",
        "- **Implication:** Since the permanent is hard to compute classically, boson sampling is seen as evidence of quantum computational advantage."
      ],
      "metadata": {
        "id": "3HTo7pmhsOfv"
      }
    },
    {
      "cell_type": "code",
      "source": [],
      "metadata": {
        "id": "RemB5gn8sZB-"
      },
      "execution_count": null,
      "outputs": []
    }
  ]
}